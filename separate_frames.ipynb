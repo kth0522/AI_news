{
  "nbformat": 4,
  "nbformat_minor": 0,
  "metadata": {
    "colab": {
      "provenance": [],
      "authorship_tag": "ABX9TyOyR+yAsLz7UGtF+MwdulK6",
      "include_colab_link": true
    },
    "kernelspec": {
      "name": "python3",
      "display_name": "Python 3"
    },
    "language_info": {
      "name": "python"
    }
  },
  "cells": [
    {
      "cell_type": "markdown",
      "metadata": {
        "id": "view-in-github",
        "colab_type": "text"
      },
      "source": [
        "<a href=\"https://colab.research.google.com/github/kth0522/AI_news/blob/main/separate_frames.ipynb\" target=\"_parent\"><img src=\"https://colab.research.google.com/assets/colab-badge.svg\" alt=\"Open In Colab\"/></a>"
      ]
    },
    {
      "cell_type": "markdown",
      "source": [
        "**라이브러리 설치**"
      ],
      "metadata": {
        "id": "PQT7rSGDWiTm"
      }
    },
    {
      "cell_type": "code",
      "execution_count": 1,
      "metadata": {
        "colab": {
          "base_uri": "https://localhost:8080/"
        },
        "id": "U2cO3TovWbud",
        "outputId": "32b984a3-6cef-4a66-ebc1-da807634d323"
      },
      "outputs": [
        {
          "output_type": "stream",
          "name": "stdout",
          "text": [
            "Requirement already satisfied: opencv-python in /usr/local/lib/python3.10/dist-packages (4.8.0.76)\n",
            "Requirement already satisfied: numpy>=1.21.2 in /usr/local/lib/python3.10/dist-packages (from opencv-python) (1.23.5)\n"
          ]
        }
      ],
      "source": [
        "!pip install opencv-python"
      ]
    },
    {
      "cell_type": "markdown",
      "source": [
        "**코드**"
      ],
      "metadata": {
        "id": "9XO-n71ZWnvM"
      }
    },
    {
      "cell_type": "code",
      "source": [
        "import os\n",
        "import cv2\n",
        "import glob"
      ],
      "metadata": {
        "id": "_3tuKoZ3WlFZ"
      },
      "execution_count": 2,
      "outputs": []
    },
    {
      "cell_type": "code",
      "source": [
        "def capture_frames(video_path, save_dir, interval=5):\n",
        "    video = cv2.VideoCapture(video_path)\n",
        "\n",
        "    fps = video.get(cv2.CAP_PROP_FPS)\n",
        "\n",
        "    if not os.path.exists(save_dir):\n",
        "        os.makedirs(save_dir)\n",
        "\n",
        "    frame_no = 0\n",
        "    i = 0\n",
        "    while video.isOpened():\n",
        "        video.set(cv2.CAP_PROP_POS_FRAMES, frame_no)\n",
        "        ret, frame = video.read()\n",
        "        if not ret:\n",
        "            break\n",
        "\n",
        "        cv2.imwrite(os.path.join(save_dir, f'frame_{i}.jpg'), frame)\n",
        "        i += 1\n",
        "\n",
        "        frame_no += int(fps * interval)\n",
        "\n",
        "    video.release()\n",
        "    print(f'Finished saving {i} frames to {save_dir}.')\n",
        "\n",
        "def process_all_videos(input_dir, output_dir):\n",
        "    for video_path in glob.glob(os.path.join(input_dir, '*.mp4')):\n",
        "        video_name = os.path.splitext(os.path.basename(video_path))[0]\n",
        "        save_dir = os.path.join(output_dir, video_name)\n",
        "        capture_frames(video_path, save_dir)"
      ],
      "metadata": {
        "id": "ymE0sPXQWtNM"
      },
      "execution_count": 8,
      "outputs": []
    },
    {
      "cell_type": "markdown",
      "source": [
        "**실행**"
      ],
      "metadata": {
        "id": "1JrruupYWzZa"
      }
    },
    {
      "cell_type": "code",
      "source": [
        "INPUT_DIR = './videos'\n",
        "OUTPUT_DIR = './separated_samples'"
      ],
      "metadata": {
        "id": "cbF4baAsWyws"
      },
      "execution_count": 9,
      "outputs": []
    },
    {
      "cell_type": "code",
      "source": [
        "process_all_videos(input_dir=INPUT_DIR, output_dir=OUTPUT_DIR)"
      ],
      "metadata": {
        "id": "KqlE1XsKXRZv",
        "outputId": "331aa8bf-5cc6-4819-af04-cd7a2c0c4490",
        "colab": {
          "base_uri": "https://localhost:8080/"
        }
      },
      "execution_count": 10,
      "outputs": [
        {
          "output_type": "stream",
          "name": "stdout",
          "text": [
            "Finished saving 16 frames to ./separated_samples/mbn_ai_1.\n"
          ]
        }
      ]
    }
  ]
}