{
  "nbformat": 4,
  "nbformat_minor": 0,
  "metadata": {
    "colab": {
      "provenance": [],
      "authorship_tag": "ABX9TyNa6Q1zBO7coJCKrHg+EmaA",
      "include_colab_link": true
    },
    "kernelspec": {
      "name": "python3",
      "display_name": "Python 3"
    },
    "language_info": {
      "name": "python"
    }
  },
  "cells": [
    {
      "cell_type": "markdown",
      "metadata": {
        "id": "view-in-github",
        "colab_type": "text"
      },
      "source": [
        "<a href=\"https://colab.research.google.com/github/kth0522/AI_news/blob/main/mp4_to_wav.ipynb\" target=\"_parent\"><img src=\"https://colab.research.google.com/assets/colab-badge.svg\" alt=\"Open In Colab\"/></a>"
      ]
    },
    {
      "cell_type": "markdown",
      "source": [
        "**라이브러리 설치**"
      ],
      "metadata": {
        "id": "R2kNK6-YfCbk"
      }
    },
    {
      "cell_type": "code",
      "source": [
        "!pip install pydub"
      ],
      "metadata": {
        "colab": {
          "base_uri": "https://localhost:8080/"
        },
        "id": "YwVzhGVGadn5",
        "outputId": "c003a556-e0fe-4962-9fda-0ba9a5ed7f2e"
      },
      "execution_count": null,
      "outputs": [
        {
          "output_type": "stream",
          "name": "stdout",
          "text": [
            "Requirement already satisfied: pydub in /usr/local/lib/python3.10/dist-packages (0.25.1)\n"
          ]
        }
      ]
    },
    {
      "cell_type": "markdown",
      "source": [
        "**코드**"
      ],
      "metadata": {
        "id": "qxHEQ5YLfHVe"
      }
    },
    {
      "cell_type": "code",
      "source": [
        "from pydub import AudioSegment\n",
        "import os\n",
        "\n",
        "def convert_mp4_to_wav_pydub(input_directory, output_directory):\n",
        "    if not os.path.exists(output_directory):\n",
        "        os.makedirs(output_directory)\n",
        "\n",
        "    for filename in os.listdir(input_directory):\n",
        "        if filename.endswith(\".mp4\"):\n",
        "            mp4_file_path = os.path.join(input_directory, filename)\n",
        "            wav_file_path = os.path.join(output_directory, os.path.splitext(filename)[0] + \".wav\")\n",
        "\n",
        "            audio = AudioSegment.from_file(mp4_file_path)\n",
        "            audio.export(wav_file_path, format=\"wav\")"
      ],
      "metadata": {
        "id": "K59KU4oIZe59"
      },
      "execution_count": null,
      "outputs": []
    },
    {
      "cell_type": "markdown",
      "source": [
        "**실행** \\\n",
        "input_directory에 원본 mp4 파일들이 있는 폴더를 넣고, output_directory에 결과 파일을 저장할 폴더 경로를 넣는다"
      ],
      "metadata": {
        "id": "YdjeiX4rhs9o"
      }
    },
    {
      "cell_type": "code",
      "source": [
        "convert_mp4_to_wav_pydub(input_directory='./videos', output_directory='./outputs/')"
      ],
      "metadata": {
        "id": "q1xCUF_2ZhSe"
      },
      "execution_count": null,
      "outputs": []
    }
  ]
}